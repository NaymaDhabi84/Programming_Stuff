{
 "cells": [
  {
   "cell_type": "markdown",
   "metadata": {},
   "source": [
    "# Lista de Exercícios 1\n",
    "\n",
    "### Esta é a lista de exercícios práticos onde serão trabalhados conceitos apresentados e exercitados em sala de aula\n",
    "\n",
    "### Aspectos como clareza e organização do código, comentários, raciocínio lógico, coerência no nome de variáveis, classes e funções, utilização das estruturas mais adequadas para a solução dos problemas e o funcionamento adequado serão analisados.\n",
    "\n",
    "### Procure entender exatamente o que se pede antes de iniciar a codificação. Quando se sabe o que é necessário fazer a codificação fica mais fácil, mais eficiente e mais divertida ;-)\n",
    "\n",
    "### Faça o upload do notebook Jupyter completo nomeado da seguinte forma: nome_sobrenome_RA.ipynb.\n",
    "\n",
    "### Por fim, boa sorte e enjoy!"
   ]
  },
  {
   "cell_type": "markdown",
   "metadata": {},
   "source": [
    "<hr>"
   ]
  },
  {
   "cell_type": "markdown",
   "metadata": {},
   "source": [
    "## Exercício 1\n",
    "\n",
    "### Crie uma função com o nome *prime_number* que receberá um número como argumento. \n",
    "### Regras:\n",
    "* O argumento recebido pela função deverá ser inteiro e positivo e maior que zero, caso negativo deverá retornar a mensagem \"invalid argument\"\n",
    "* Caso o argumento recebido seja válido, a função deverá verificar se trata-se de um número primo e caso positivo, retornar a mensagem \"prime number\", caso contrário \"not a prime number\"\n",
    "* O valor máximo que a função calculará é de 5,5 * 10^7. Caso o número passado como argumento seja maior, retornar a mensagem \"argument out of range\""
   ]
  },
  {
   "cell_type": "code",
   "execution_count": 14,
   "metadata": {},
   "outputs": [],
   "source": [
    "def prime_number(numero_inserido):\n",
    "\n",
    "    \n",
    "#Exercício 1 - Lógica de Programação:\n",
    "    \n",
    "# verificando se o número é inteiro, caso o contrário retornará \"invalid argument\"\n",
    "    if type(numero_inserido) != int :\n",
    "        return \"invalid argument\"\n",
    "    \n",
    "    \n",
    "#verificando se esse inteiro é positivo e > 0\n",
    "    if numero_inserido <=0:\n",
    "        return \"invalid argument\"\n",
    "    \n",
    "#garantindo que o valor máximo seja 5,5*10^7\n",
    "    elif numero_inserido > 5.5 * 10**7:\n",
    "        return \"argument out of range\"\n",
    "    \n",
    "#testando o looping\n",
    "\n",
    "#verificando as condições para um número ser primo, o número 1 não é primo\n",
    "    else:\n",
    "        if numero_inserido == 1:         \n",
    "            return \"not a prime number\"\n",
    "        \n",
    "        prime = True\n",
    "     \n",
    "        primeiro_teste =  numero_inserido % 2\n",
    "        if primeiro_teste !=0 and numero_inserido !=2 :\n",
    "            \n",
    "# dividivindo o \"numero_inserido\" por todos os números ímpares < que o \"numero_inserido\", se o resto for = 0 então o número não é primo.\n",
    "#Um número é primo se ele só for divisível por 1 ou por ele mesmo.           \n",
    "            x=2\n",
    "            while (2*x-1) < numero_inserido:       \n",
    "                odd = (2*x-1)                   \n",
    "                segundo_teste = (numero_inserido % odd)\n",
    "\n",
    "#condição para um número não ser primo\n",
    "                if segundo_teste == 0:                  \n",
    "                    prime = False\n",
    "                    return \"not a prime number\"\n",
    "    \n",
    "                x+=1\n",
    "        \n",
    "#verificando se o número é par e diferente de 2, 2 é o único par que é primo.\n",
    "        elif primeiro_teste == 0 and numero_inserido !=2:\n",
    "            return \"not a prime number\"\n",
    "        \n",
    "        if prime: \n",
    "            return \"prime number\"\n",
    "        \n",
    "    \n",
    "    \n",
    "    \n",
    "    \n",
    "    "
   ]
  },
  {
   "cell_type": "code",
   "execution_count": 11,
   "metadata": {},
   "outputs": [
    {
     "name": "stdout",
     "output_type": "stream",
     "text": [
      "0\n",
      "invalid argument\n",
      "1\n",
      "not a prime number\n",
      "2\n",
      "prime number\n",
      "3\n",
      "prime number\n",
      "4\n",
      "not a prime number\n",
      "5\n",
      "prime number\n",
      "6\n",
      "not a prime number\n",
      "7\n",
      "prime number\n",
      "8\n",
      "not a prime number\n",
      "9\n",
      "not a prime number\n"
     ]
    }
   ],
   "source": [
    "\n"
   ]
  },
  {
   "cell_type": "markdown",
   "metadata": {},
   "source": [
    "<hr>"
   ]
  },
  {
   "cell_type": "markdown",
   "metadata": {},
   "source": [
    "## Exercício 2\n",
    "\n",
    "### Crie uma função com o nome *sum_of_products* que receba duas listas numéricas como argumento.\n",
    "\n",
    "### Regras:\n",
    "* Verificar todo o conteúdo das duas listas e retornar a mensagem de erro \"wrong number\" caso algum elemento não seja um número\n",
    "* A função deverá retornar a soma dos produtos de elementos de mesmo indice de cada lista\n",
    "* Caso uma das listas tenha mais elementos que a outra, considere o valor 1 para o produto com cada elemento da lista com maior número de elementos\n",
    "* Caso as duas listas estejam vazias, retornar -1."
   ]
  },
  {
   "cell_type": "code",
   "execution_count": 13,
   "metadata": {},
   "outputs": [],
   "source": [
    "def sum_of_products(lista1, lista2):\n",
    "   \n",
    "    \n",
    "#verificando o tamanho da lista p/ pegar o maior número para fazer parte do looping (for).\n",
    "    l1size = len(lista1)\n",
    "    l2size = len(lista2)\n",
    "    max_range = max(l1size, l2size)\n",
    "   \n",
    "#verificando se a lista está vazia\n",
    "\n",
    "    if max_range == 0: \n",
    "        return -1\n",
    "        \n",
    "    soma = 0 \n",
    "    \n",
    "    for x in range(0, max_range):\n",
    "        valid = True\n",
    "        \n",
    "       \n",
    "        if l1size > x :   \n",
    "            a = lista1[x]\n",
    "            if not (type(a) == int or type(a) == float): return \"wrong number\" \n",
    "        else:\n",
    "            valid = False\n",
    "       \n",
    "        if l2size > x :\n",
    "            b = lista2[x]\n",
    "            if not (type(b) == int or type(b) == float): return \"wrong number\"\n",
    "        else: \n",
    "            valid = False\n",
    "        \n",
    "        #se a condição vai de encontro com as regras, calcular o produto.\n",
    "        if valid: \n",
    "            Product = a * b\n",
    "        else: \n",
    "            Product = 1\n",
    "    \n",
    "        soma += Product\n",
    "    return soma        \n",
    "        "
   ]
  },
  {
   "cell_type": "code",
   "execution_count": null,
   "metadata": {},
   "outputs": [],
   "source": []
  },
  {
   "cell_type": "markdown",
   "metadata": {},
   "source": [
    "<hr>"
   ]
  },
  {
   "cell_type": "markdown",
   "metadata": {},
   "source": [
    "## Exercício 3\n",
    "\n",
    "### Supondo que a população de um país A seja da ordem de 90.000.000 habitantes com uma taxa anual de crescimento de 3% ao ano e que a população de um país B seja aproximadamente de 200.000.000 habitantes com uma taxa anual de cresciemento de 1,5% ao ano\n",
    "\n",
    "### Crie uma função de nome *growth_rate* que calcule e retorne o número de anos necessários para que a população do país A ultrapasse ou iguale a população do país B, mantidas essas taxas de crescimento.\n",
    "\n",
    "### Regras:\n",
    "* A função deverá receber 2 argumentos, population_a e population_b e verificar se são numéricos inteiros e maiores que zero\n",
    "* Caso um dos argumentos não obedeça a condição acima, a função deverá retornar a mensagem \"invalid argument\""
   ]
  },
  {
   "cell_type": "code",
   "execution_count": 12,
   "metadata": {},
   "outputs": [],
   "source": [
    "def growth_rate(populacao_a, populacao_b):\n",
    "     \n",
    " \n",
    "#verificando se os números são inteiros e > 0\n",
    "    valid_a = type(populacao_a) == int and populacao_a >0\n",
    "    valid_b = type(populacao_b) == int and populacao_b >0\n",
    "    \n",
    "    if valid_a and valid_b:\n",
    "        \n",
    "        r\n",
    "#verificando se o menor valor é a \"populacao_a\"\n",
    "        inputs = [populacao_a, populacao_b]\n",
    "\n",
    "        populacao_a = inputs[inputs.index(min(inputs))] \n",
    "        populacao_b = inputs[inputs.index(max(inputs))] \n",
    "        \n",
    "#O looping para quando a \"populacao_a\" é = ou > que a \"populacao_b\"\n",
    "        years = 0\n",
    "        while True:\n",
    "            years += 1                                         \n",
    "            populacao_a += int(round((0.03*populacao_a),0))  #arredondando\n",
    "            populacao_b += int(round((0.015*populacao_b),0))\n",
    "\n",
    "#quando atingir a condição \"break\" para para o looping. \n",
    "            if populacao_a >= populacao_b: #verificando se \"population_a\" é > ou = a \"population_b\".\n",
    "                break\n",
    "                \n",
    "        return years                \n",
    "            \n",
    "        \n",
    "    else: \n",
    "        return \"invalid argument\""
   ]
  },
  {
   "cell_type": "markdown",
   "metadata": {},
   "source": [
    "## Exercício 4\n",
    "\n",
    "### Crie uma função chamada *count_list* que receberá uma lista de números como argumento.\n",
    "\n",
    "### A função deverá retornar um *dictionary* com as seguintes informações a respeito dos elementos da lista:\n",
    "* **max** - o maior elemento\n",
    "* **sum** - a soma dos elementos\n",
    "* **occurs** - o número de ocorrências do primeiro elemento da lista\n",
    "* **mean** - a média dos elementos\n",
    "* **near-mean** - o valor mais próximo da média dos elementos\n",
    "* **minus** - a soma dos elementos com valor negativo"
   ]
  },
  {
   "cell_type": "code",
   "execution_count": 11,
   "metadata": {},
   "outputs": [],
   "source": [
    "def count_list(lista_n):\n",
    "    \n",
    "  \n",
    "#verificando as entradas \n",
    "   \n",
    "    for x in range(0,len(lista_n)):\n",
    "        item = lista_n[x]                               \n",
    "        if type(item) != int and type(item) != float:  #verificando se o valor é numérico\n",
    "            return 'invalid argument'\n",
    "\n",
    "    \n",
    "\n",
    "    mean = sum(lista_n)/len(lista_n)\n",
    "    negative_sum = 0              \n",
    "    minimum = float(\"inf\")                            \n",
    "    for x in range(0,len(lista_n)):\n",
    "        item = lista_n[x]                               \n",
    "                    \n",
    "       \n",
    "        if abs(item - mean) < minimum:\n",
    "            near_mean = item\n",
    "            minimum = abs(item - mean) \n",
    "\n",
    "        if item < 0:\n",
    "            negative_sum += item\n",
    "            \n",
    "\n",
    "            \n",
    "#se \"negative sum\" ainda for = 0, então nenhum número negativo para a soma.    \n",
    "    if negative_sum == 0 : negative_sum = '-'\n",
    "        \n",
    "    dic ={'max': max(lista_n),\n",
    "          'sum': sum(lista_n),\n",
    "          'occurs': lista_n.count(lista_n[0]),\n",
    "          'mean': sum(lista_n)/len(lista_n),\n",
    "          'near-mean': near_mean,\n",
    "          'minus': negative_sum\n",
    "         }\n",
    "    return dic"
   ]
  },
  {
   "cell_type": "code",
   "execution_count": null,
   "metadata": {},
   "outputs": [],
   "source": []
  },
  {
   "cell_type": "code",
   "execution_count": null,
   "metadata": {},
   "outputs": [],
   "source": []
  }
 ],
 "metadata": {
  "kernelspec": {
   "display_name": "Python 2",
   "language": "python",
   "name": "python2"
  },
  "language_info": {
   "codemirror_mode": {
    "name": "ipython",
    "version": 2
   },
   "file_extension": ".py",
   "mimetype": "text/x-python",
   "name": "python",
   "nbconvert_exporter": "python",
   "pygments_lexer": "ipython2",
   "version": "2.7.15"
  }
 },
 "nbformat": 4,
 "nbformat_minor": 2
}
